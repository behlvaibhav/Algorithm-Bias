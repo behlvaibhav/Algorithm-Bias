{
 "cells": [
  {
   "cell_type": "markdown",
   "metadata": {},
   "source": [
    "# Algorithmic Bias \n",
    "\n",
    "  \n"
   ]
  },
  {
   "cell_type": "markdown",
   "metadata": {},
   "source": [
    "## Q1\n",
    "\n",
    "<span style=\"color:blue\">\n",
    "Load the Breast Cancer dataset using the code in AlgorithmBiasCore and assess the bias of classifiers trained on this dataset, i.e. are classifiers biased towards the majority class? Consider k-NN, Decision Trees, Logistic Regression and Naive Bayes in your assessment. Test for bias using hold-out testing and cross-validation. \n",
    "</span>\n",
    "\n",
    "In the following analysis we compare:\n",
    "- counts of predictions of the minority class \n",
    "- actual counts of the minority class in the test set.  \n",
    "\n",
    "If the predicted count is less than the actual this is evidence of bias.  \n",
    "This is completely independent of the classifier accuracy.  \n"
   ]
  },
  {
   "cell_type": "code",
   "execution_count": 1,
   "metadata": {},
   "outputs": [],
   "source": [
    "import numpy as np\n",
    "import pandas as pd\n",
    "from sklearn import datasets"
   ]
  },
  {
   "cell_type": "code",
   "execution_count": 2,
   "metadata": {},
   "outputs": [
    {
     "data": {
      "text/html": [
       "<div>\n",
       "<style scoped>\n",
       "    .dataframe tbody tr th:only-of-type {\n",
       "        vertical-align: middle;\n",
       "    }\n",
       "\n",
       "    .dataframe tbody tr th {\n",
       "        vertical-align: top;\n",
       "    }\n",
       "\n",
       "    .dataframe thead th {\n",
       "        text-align: right;\n",
       "    }\n",
       "</style>\n",
       "<table border=\"1\" class=\"dataframe\">\n",
       "  <thead>\n",
       "    <tr style=\"text-align: right;\">\n",
       "      <th></th>\n",
       "      <th>mean radius</th>\n",
       "      <th>mean texture</th>\n",
       "      <th>mean perimeter</th>\n",
       "      <th>mean area</th>\n",
       "      <th>mean smoothness</th>\n",
       "      <th>mean compactness</th>\n",
       "      <th>mean concavity</th>\n",
       "      <th>mean concave points</th>\n",
       "      <th>mean symmetry</th>\n",
       "      <th>mean fractal dimension</th>\n",
       "      <th>...</th>\n",
       "      <th>worst texture</th>\n",
       "      <th>worst perimeter</th>\n",
       "      <th>worst area</th>\n",
       "      <th>worst smoothness</th>\n",
       "      <th>worst compactness</th>\n",
       "      <th>worst concavity</th>\n",
       "      <th>worst concave points</th>\n",
       "      <th>worst symmetry</th>\n",
       "      <th>worst fractal dimension</th>\n",
       "      <th>target</th>\n",
       "    </tr>\n",
       "  </thead>\n",
       "  <tbody>\n",
       "    <tr>\n",
       "      <th>0</th>\n",
       "      <td>17.99</td>\n",
       "      <td>10.38</td>\n",
       "      <td>122.80</td>\n",
       "      <td>1001.0</td>\n",
       "      <td>0.1184</td>\n",
       "      <td>0.2776</td>\n",
       "      <td>0.3001</td>\n",
       "      <td>0.14710</td>\n",
       "      <td>0.2419</td>\n",
       "      <td>0.07871</td>\n",
       "      <td>...</td>\n",
       "      <td>17.33</td>\n",
       "      <td>184.6</td>\n",
       "      <td>2019.0</td>\n",
       "      <td>0.1622</td>\n",
       "      <td>0.6656</td>\n",
       "      <td>0.7119</td>\n",
       "      <td>0.2654</td>\n",
       "      <td>0.4601</td>\n",
       "      <td>0.11890</td>\n",
       "      <td>0</td>\n",
       "    </tr>\n",
       "    <tr>\n",
       "      <th>1</th>\n",
       "      <td>14.22</td>\n",
       "      <td>23.12</td>\n",
       "      <td>94.37</td>\n",
       "      <td>609.9</td>\n",
       "      <td>0.1075</td>\n",
       "      <td>0.2413</td>\n",
       "      <td>0.1981</td>\n",
       "      <td>0.06618</td>\n",
       "      <td>0.2384</td>\n",
       "      <td>0.07542</td>\n",
       "      <td>...</td>\n",
       "      <td>37.18</td>\n",
       "      <td>106.4</td>\n",
       "      <td>762.4</td>\n",
       "      <td>0.1533</td>\n",
       "      <td>0.9327</td>\n",
       "      <td>0.8488</td>\n",
       "      <td>0.1772</td>\n",
       "      <td>0.5166</td>\n",
       "      <td>0.14460</td>\n",
       "      <td>0</td>\n",
       "    </tr>\n",
       "    <tr>\n",
       "      <th>2</th>\n",
       "      <td>12.34</td>\n",
       "      <td>26.86</td>\n",
       "      <td>81.15</td>\n",
       "      <td>477.4</td>\n",
       "      <td>0.1034</td>\n",
       "      <td>0.1353</td>\n",
       "      <td>0.1085</td>\n",
       "      <td>0.04562</td>\n",
       "      <td>0.1943</td>\n",
       "      <td>0.06937</td>\n",
       "      <td>...</td>\n",
       "      <td>39.34</td>\n",
       "      <td>101.7</td>\n",
       "      <td>768.9</td>\n",
       "      <td>0.1785</td>\n",
       "      <td>0.4706</td>\n",
       "      <td>0.4425</td>\n",
       "      <td>0.1459</td>\n",
       "      <td>0.3215</td>\n",
       "      <td>0.12050</td>\n",
       "      <td>0</td>\n",
       "    </tr>\n",
       "    <tr>\n",
       "      <th>3</th>\n",
       "      <td>14.86</td>\n",
       "      <td>23.21</td>\n",
       "      <td>100.40</td>\n",
       "      <td>671.4</td>\n",
       "      <td>0.1044</td>\n",
       "      <td>0.1980</td>\n",
       "      <td>0.1697</td>\n",
       "      <td>0.08878</td>\n",
       "      <td>0.1737</td>\n",
       "      <td>0.06672</td>\n",
       "      <td>...</td>\n",
       "      <td>27.78</td>\n",
       "      <td>118.6</td>\n",
       "      <td>784.7</td>\n",
       "      <td>0.1316</td>\n",
       "      <td>0.4648</td>\n",
       "      <td>0.4589</td>\n",
       "      <td>0.1727</td>\n",
       "      <td>0.3000</td>\n",
       "      <td>0.08701</td>\n",
       "      <td>0</td>\n",
       "    </tr>\n",
       "    <tr>\n",
       "      <th>4</th>\n",
       "      <td>13.77</td>\n",
       "      <td>22.29</td>\n",
       "      <td>90.63</td>\n",
       "      <td>588.9</td>\n",
       "      <td>0.1200</td>\n",
       "      <td>0.1267</td>\n",
       "      <td>0.1385</td>\n",
       "      <td>0.06526</td>\n",
       "      <td>0.1834</td>\n",
       "      <td>0.06877</td>\n",
       "      <td>...</td>\n",
       "      <td>34.01</td>\n",
       "      <td>111.6</td>\n",
       "      <td>806.9</td>\n",
       "      <td>0.1737</td>\n",
       "      <td>0.3122</td>\n",
       "      <td>0.3809</td>\n",
       "      <td>0.1673</td>\n",
       "      <td>0.3080</td>\n",
       "      <td>0.09333</td>\n",
       "      <td>0</td>\n",
       "    </tr>\n",
       "  </tbody>\n",
       "</table>\n",
       "<p>5 rows × 31 columns</p>\n",
       "</div>"
      ],
      "text/plain": [
       "   mean radius  mean texture  mean perimeter  mean area  mean smoothness  \\\n",
       "0        17.99         10.38          122.80     1001.0           0.1184   \n",
       "1        14.22         23.12           94.37      609.9           0.1075   \n",
       "2        12.34         26.86           81.15      477.4           0.1034   \n",
       "3        14.86         23.21          100.40      671.4           0.1044   \n",
       "4        13.77         22.29           90.63      588.9           0.1200   \n",
       "\n",
       "   mean compactness  mean concavity  mean concave points  mean symmetry  \\\n",
       "0            0.2776          0.3001              0.14710         0.2419   \n",
       "1            0.2413          0.1981              0.06618         0.2384   \n",
       "2            0.1353          0.1085              0.04562         0.1943   \n",
       "3            0.1980          0.1697              0.08878         0.1737   \n",
       "4            0.1267          0.1385              0.06526         0.1834   \n",
       "\n",
       "   mean fractal dimension  ...  worst texture  worst perimeter  worst area  \\\n",
       "0                 0.07871  ...          17.33            184.6      2019.0   \n",
       "1                 0.07542  ...          37.18            106.4       762.4   \n",
       "2                 0.06937  ...          39.34            101.7       768.9   \n",
       "3                 0.06672  ...          27.78            118.6       784.7   \n",
       "4                 0.06877  ...          34.01            111.6       806.9   \n",
       "\n",
       "   worst smoothness  worst compactness  worst concavity  worst concave points  \\\n",
       "0            0.1622             0.6656           0.7119                0.2654   \n",
       "1            0.1533             0.9327           0.8488                0.1772   \n",
       "2            0.1785             0.4706           0.4425                0.1459   \n",
       "3            0.1316             0.4648           0.4589                0.1727   \n",
       "4            0.1737             0.3122           0.3809                0.1673   \n",
       "\n",
       "   worst symmetry  worst fractal dimension  target  \n",
       "0          0.4601                  0.11890       0  \n",
       "1          0.5166                  0.14460       0  \n",
       "2          0.3215                  0.12050       0  \n",
       "3          0.3000                  0.08701       0  \n",
       "4          0.3080                  0.09333       0  \n",
       "\n",
       "[5 rows x 31 columns]"
      ]
     },
     "execution_count": 2,
     "metadata": {},
     "output_type": "execute_result"
    }
   ],
   "source": [
    "bcDB = datasets.load_breast_cancer()\n",
    "bcDF = pd.DataFrame(bcDB.data, columns= list(bcDB['feature_names']))\n",
    "bcDF['target'] = pd.Series(bcDB.target)\n",
    "bcDF = bcDF.sort_values(by = ['target'])\n",
    "bcDF = bcDF.reset_index(drop=True)\n",
    "bcDF.head(5)"
   ]
  },
  {
   "cell_type": "code",
   "execution_count": 3,
   "metadata": {},
   "outputs": [
    {
     "name": "stdout",
     "output_type": "stream",
     "text": [
      "212 malignant\n",
      "357 benign\n"
     ]
    }
   ],
   "source": [
    "vc = bcDF['target'].value_counts()\n",
    "for i,j in enumerate(bcDB.target_names):\n",
    "    print (vc[i],j)"
   ]
  },
  {
   "cell_type": "code",
   "execution_count": 4,
   "metadata": {},
   "outputs": [
    {
     "data": {
      "text/plain": [
       "((569, 30), (569,))"
      ]
     },
     "execution_count": 4,
     "metadata": {},
     "output_type": "execute_result"
    }
   ],
   "source": [
    "y = bcDF.pop('target').values\n",
    "X = bcDF.values\n",
    "X.shape, y.shape"
   ]
  },
  {
   "cell_type": "code",
   "execution_count": 5,
   "metadata": {},
   "outputs": [
    {
     "data": {
      "text/plain": [
       "((569, 30), (569,))"
      ]
     },
     "execution_count": 5,
     "metadata": {},
     "output_type": "execute_result"
    }
   ],
   "source": [
    "from sklearn.utils import shuffle\n",
    "X, y = shuffle(X, y, random_state=1)\n",
    "X.shape, y.shape"
   ]
  },
  {
   "cell_type": "markdown",
   "metadata": {},
   "source": [
    "## Models"
   ]
  },
  {
   "cell_type": "code",
   "execution_count": 6,
   "metadata": {},
   "outputs": [],
   "source": [
    "from sklearn.naive_bayes import MultinomialNB\n",
    "from sklearn.neighbors import KNeighborsClassifier\n",
    "from sklearn.tree import DecisionTreeClassifier\n",
    "from sklearn.linear_model import LogisticRegression\n",
    "\n",
    "from sklearn.metrics import confusion_matrix, accuracy_score\n",
    "from sklearn.model_selection import train_test_split\n",
    "\n",
    "model_d = {}\n",
    "\n",
    "model_d['dtree'] = DecisionTreeClassifier(criterion='entropy')\n",
    "model_d['kNN'] = KNeighborsClassifier(n_neighbors=3)  \n",
    "model_d['mnb'] = MultinomialNB()\n",
    "model_d['logistic'] = LogisticRegression(max_iter=10000, solver = 'sag', random_state=0)\n"
   ]
  },
  {
   "cell_type": "markdown",
   "metadata": {},
   "source": [
    "## Hold-Out Testing"
   ]
  },
  {
   "cell_type": "code",
   "execution_count": 7,
   "metadata": {
    "scrolled": true
   },
   "outputs": [
    {
     "name": "stdout",
     "output_type": "stream",
     "text": [
      "Malignant in test set : 50\n",
      "DecisionTreeClassifier Pred. Malignant: 47 Accuracy: 0.95\n",
      "KNeighborsClassifier   Pred. Malignant: 49 Accuracy: 0.92\n",
      "MultinomialNB          Pred. Malignant: 45 Accuracy: 0.92\n",
      "LogisticRegression     Pred. Malignant: 49 Accuracy: 0.92\n"
     ]
    }
   ],
   "source": [
    "X_train, X_test, y_train, y_test = train_test_split(X, y, random_state=0)\n",
    "bias_d = {}\n",
    "acc_bl = {}\n",
    "\n",
    "print(\"Malignant in test set : %d\" % (len(y_test) - y_test.sum()))\n",
    "\n",
    "for m in model_d:\n",
    "    y_pred = model_d[m].fit(X_train, y_train).predict(X_test)\n",
    "    pred_count = (len(y_pred) - y_pred.sum())\n",
    "    bias_d[m] = pred_count\n",
    "    acc = accuracy_score(y_test, y_pred)\n",
    "    acc_bl[m] = acc\n",
    "\n",
    "    print(\"{:22} Pred. Malignant: {:d} Accuracy: {:.2f}\".format(type(model_d[m]).__name__, pred_count,acc))\n"
   ]
  },
  {
   "cell_type": "code",
   "execution_count": 8,
   "metadata": {
    "scrolled": false
   },
   "outputs": [
    {
     "data": {
      "image/png": "[encoded data removed]",
      "text/plain": [
       "<Figure size 432x288 with 1 Axes>"
      ]
     },
     "metadata": {
      "needs_background": "light"
     },
     "output_type": "display_data"
    }
   ],
   "source": [
    "import matplotlib.pyplot as plt \n",
    "import numpy as np\n",
    "%matplotlib inline \n",
    "\n",
    "# Add the prior figures to the data for plotting\n",
    "objects = ['Prior'] + list(bias_d.keys())\n",
    "positive = [len(y_test) - y_test.sum()] + list(bias_d.values())\n",
    "\n",
    "y_pos = np.arange(len(objects))\n",
    "\n",
    "plt.bar(y_pos, positive, align='center', color=['red', 'blue', 'blue','blue','blue'],alpha=0.5)\n",
    "plt.xticks(y_pos, objects)\n",
    "plt.ylabel('Malginant Count')\n",
    "plt.title('ML Algorithm Bias')\n",
    " \n",
    "plt.show()"
   ]
  },
  {
   "cell_type": "markdown",
   "metadata": {},
   "source": [
    "### Hold- Out Testing Discussion\n",
    "- Assessment of bias is independent of accuracy, i.e. proportion of examples classified as the minority class compared with the actual proportion in the test set. \n",
    "- kNN and Logistic Regression not really showing bias (49 v 50).\n",
    "- Naive Bayes has bias, 45 v 50, i.e. a 10% bias. "
   ]
  },
  {
   "cell_type": "markdown",
   "metadata": {},
   "source": [
    "## Cross Validation"
   ]
  },
  {
   "cell_type": "code",
   "execution_count": 9,
   "metadata": {},
   "outputs": [],
   "source": [
    "from sklearn.model_selection import cross_validate\n",
    "from sklearn.metrics import make_scorer\n",
    "\n",
    "def tp(y_true, y_pred): return confusion_matrix(y_true, y_pred)[1, 1]\n",
    "def tn(y_true, y_pred): return confusion_matrix(y_true, y_pred)[0, 0]\n",
    "def fp(y_true, y_pred): return confusion_matrix(y_true, y_pred)[0, 1]\n",
    "def fn(y_true, y_pred): return confusion_matrix(y_true, y_pred)[1, 0]\n",
    "scoring = {'tp' : make_scorer(tp), 'tn' : make_scorer(tn),\n",
    "           'fp' : make_scorer(fp), 'fn' : make_scorer(fn)}\n",
    "\n",
    "folds = 4\n",
    "v = 0 #  use 1 or 0"
   ]
  },
  {
   "cell_type": "code",
   "execution_count": 10,
   "metadata": {},
   "outputs": [
    {
     "name": "stdout",
     "output_type": "stream",
     "text": [
      "4 x CV DecisionTreeClassifier N: 212 Pred N: 210 Acc: 0.93\n",
      "4 x CV KNeighborsClassifier   N: 212 Pred N: 203 Acc: 0.91\n",
      "4 x CV MultinomialNB          N: 212 Pred N: 176 Acc: 0.89\n",
      "4 x CV LogisticRegression     N: 212 Pred N: 195 Acc: 0.92\n"
     ]
    }
   ],
   "source": [
    "bias_cv = {}\n",
    "\n",
    "for m in model_d:\n",
    "    cv_results = cross_validate(model_d[m], X, y, cv= folds,scoring=scoring, return_train_score=False, \n",
    "                                    verbose = v, n_jobs = -1)\n",
    "    n_tot = cv_results['test_tn'].sum() + cv_results['test_fn'].sum()\n",
    "    acc = (cv_results['test_tp'].sum() + cv_results['test_tn'].sum())/len(y)\n",
    "    bias_cv[m] = n_tot\n",
    "  \n",
    "    print(\"{} x CV {:22} N: {:d} Pred N: {:d} Acc: {:.2f}\".format(folds, type(model_d[m]).__name__, \n",
    "                                                                  vc[0] , n_tot,acc)) \n"
   ]
  },
  {
   "cell_type": "code",
   "execution_count": 11,
   "metadata": {
    "scrolled": true
   },
   "outputs": [
    {
     "data": {
      "image/png": "[encoded data removed]",
      "text/plain": [
       "<Figure size 432x288 with 1 Axes>"
      ]
     },
     "metadata": {
      "needs_background": "light"
     },
     "output_type": "display_data"
    }
   ],
   "source": [
    "import matplotlib.pyplot as plt \n",
    "import numpy as np\n",
    "import matplotlib.pyplot as plt\n",
    "%matplotlib inline \n",
    "\n",
    "objects = ['Prior'] + list(bias_cv.keys())\n",
    "positive = [vc[0]] + list(bias_cv.values())\n",
    "\n",
    "y_pos = np.arange(len(objects))\n",
    "\n",
    "plt.bar(y_pos, positive, align='center', color=['red', 'blue', 'blue','blue','blue','blue'],alpha=0.5)\n",
    "plt.xticks(y_pos, objects)\n",
    "plt.ylabel('Malignant Count')\n",
    "plt.title('ML Algorithm Bias (X-val)')\n",
    " \n",
    "plt.show()"
   ]
  },
  {
   "cell_type": "markdown",
   "metadata": {},
   "source": [
    "### X-Val Testing Discussion\n",
    "- This assessment is more robust than Hold-Out Testing because all data is consisered. \n",
    "    - We have 212 minority class examples compared with 50 in hold-out.\n",
    "- All methods except DTrees show bias.\n",
    "- DTrees are unbiased and very accurate. \n"
   ]
  },
  {
   "cell_type": "code",
   "execution_count": 12,
   "metadata": {},
   "outputs": [
    {
     "data": {
      "text/plain": [
       "array([87, 88, 84, 85])"
      ]
     },
     "execution_count": 12,
     "metadata": {},
     "output_type": "execute_result"
    }
   ],
   "source": [
    "cv_results['test_tp']"
   ]
  },
  {
   "cell_type": "markdown",
   "metadata": {},
   "source": [
    "---\n",
    "## Q2\n",
    "\n",
    "<span style=\"color:blue\">  \n",
    "Propose a strategy to rectify this bias. Evaluate the effect of this strategy in terms of classification bias and overall accuracy.  \n",
    "</span>\n",
    "   \n",
    "### The Fix\n",
    "The Fix is to use SMOTE to upsample the minority class.  \n",
    "Briefly, SMOTE produces additional synthetic minority class samples by interpolating between real samples.  \n",
    "We configure SMOTE to bring up the minority class count level with the majority class. "
   ]
  },
  {
   "cell_type": "code",
   "execution_count": 13,
   "metadata": {},
   "outputs": [
    {
     "name": "stderr",
     "output_type": "stream",
     "text": [
      "Using TensorFlow backend.\n"
     ]
    }
   ],
   "source": [
    "from imblearn.over_sampling import SMOTE, RandomOverSampler, ADASYN"
   ]
  },
  {
   "cell_type": "code",
   "execution_count": 14,
   "metadata": {},
   "outputs": [
    {
     "data": {
      "text/html": [
       "<div>\n",
       "<style scoped>\n",
       "    .dataframe tbody tr th:only-of-type {\n",
       "        vertical-align: middle;\n",
       "    }\n",
       "\n",
       "    .dataframe tbody tr th {\n",
       "        vertical-align: top;\n",
       "    }\n",
       "\n",
       "    .dataframe thead th {\n",
       "        text-align: right;\n",
       "    }\n",
       "</style>\n",
       "<table border=\"1\" class=\"dataframe\">\n",
       "  <thead>\n",
       "    <tr style=\"text-align: right;\">\n",
       "      <th></th>\n",
       "      <th>mean radius</th>\n",
       "      <th>mean texture</th>\n",
       "      <th>mean perimeter</th>\n",
       "      <th>mean area</th>\n",
       "      <th>mean smoothness</th>\n",
       "      <th>mean compactness</th>\n",
       "      <th>mean concavity</th>\n",
       "      <th>mean concave points</th>\n",
       "      <th>mean symmetry</th>\n",
       "      <th>mean fractal dimension</th>\n",
       "      <th>...</th>\n",
       "      <th>worst texture</th>\n",
       "      <th>worst perimeter</th>\n",
       "      <th>worst area</th>\n",
       "      <th>worst smoothness</th>\n",
       "      <th>worst compactness</th>\n",
       "      <th>worst concavity</th>\n",
       "      <th>worst concave points</th>\n",
       "      <th>worst symmetry</th>\n",
       "      <th>worst fractal dimension</th>\n",
       "      <th>target</th>\n",
       "    </tr>\n",
       "  </thead>\n",
       "  <tbody>\n",
       "    <tr>\n",
       "      <th>0</th>\n",
       "      <td>17.99</td>\n",
       "      <td>10.38</td>\n",
       "      <td>122.80</td>\n",
       "      <td>1001.0</td>\n",
       "      <td>0.1184</td>\n",
       "      <td>0.2776</td>\n",
       "      <td>0.3001</td>\n",
       "      <td>0.14710</td>\n",
       "      <td>0.2419</td>\n",
       "      <td>0.07871</td>\n",
       "      <td>...</td>\n",
       "      <td>17.33</td>\n",
       "      <td>184.6</td>\n",
       "      <td>2019.0</td>\n",
       "      <td>0.1622</td>\n",
       "      <td>0.6656</td>\n",
       "      <td>0.7119</td>\n",
       "      <td>0.2654</td>\n",
       "      <td>0.4601</td>\n",
       "      <td>0.11890</td>\n",
       "      <td>0</td>\n",
       "    </tr>\n",
       "    <tr>\n",
       "      <th>1</th>\n",
       "      <td>14.22</td>\n",
       "      <td>23.12</td>\n",
       "      <td>94.37</td>\n",
       "      <td>609.9</td>\n",
       "      <td>0.1075</td>\n",
       "      <td>0.2413</td>\n",
       "      <td>0.1981</td>\n",
       "      <td>0.06618</td>\n",
       "      <td>0.2384</td>\n",
       "      <td>0.07542</td>\n",
       "      <td>...</td>\n",
       "      <td>37.18</td>\n",
       "      <td>106.4</td>\n",
       "      <td>762.4</td>\n",
       "      <td>0.1533</td>\n",
       "      <td>0.9327</td>\n",
       "      <td>0.8488</td>\n",
       "      <td>0.1772</td>\n",
       "      <td>0.5166</td>\n",
       "      <td>0.14460</td>\n",
       "      <td>0</td>\n",
       "    </tr>\n",
       "    <tr>\n",
       "      <th>2</th>\n",
       "      <td>12.34</td>\n",
       "      <td>26.86</td>\n",
       "      <td>81.15</td>\n",
       "      <td>477.4</td>\n",
       "      <td>0.1034</td>\n",
       "      <td>0.1353</td>\n",
       "      <td>0.1085</td>\n",
       "      <td>0.04562</td>\n",
       "      <td>0.1943</td>\n",
       "      <td>0.06937</td>\n",
       "      <td>...</td>\n",
       "      <td>39.34</td>\n",
       "      <td>101.7</td>\n",
       "      <td>768.9</td>\n",
       "      <td>0.1785</td>\n",
       "      <td>0.4706</td>\n",
       "      <td>0.4425</td>\n",
       "      <td>0.1459</td>\n",
       "      <td>0.3215</td>\n",
       "      <td>0.12050</td>\n",
       "      <td>0</td>\n",
       "    </tr>\n",
       "    <tr>\n",
       "      <th>3</th>\n",
       "      <td>14.86</td>\n",
       "      <td>23.21</td>\n",
       "      <td>100.40</td>\n",
       "      <td>671.4</td>\n",
       "      <td>0.1044</td>\n",
       "      <td>0.1980</td>\n",
       "      <td>0.1697</td>\n",
       "      <td>0.08878</td>\n",
       "      <td>0.1737</td>\n",
       "      <td>0.06672</td>\n",
       "      <td>...</td>\n",
       "      <td>27.78</td>\n",
       "      <td>118.6</td>\n",
       "      <td>784.7</td>\n",
       "      <td>0.1316</td>\n",
       "      <td>0.4648</td>\n",
       "      <td>0.4589</td>\n",
       "      <td>0.1727</td>\n",
       "      <td>0.3000</td>\n",
       "      <td>0.08701</td>\n",
       "      <td>0</td>\n",
       "    </tr>\n",
       "    <tr>\n",
       "      <th>4</th>\n",
       "      <td>13.77</td>\n",
       "      <td>22.29</td>\n",
       "      <td>90.63</td>\n",
       "      <td>588.9</td>\n",
       "      <td>0.1200</td>\n",
       "      <td>0.1267</td>\n",
       "      <td>0.1385</td>\n",
       "      <td>0.06526</td>\n",
       "      <td>0.1834</td>\n",
       "      <td>0.06877</td>\n",
       "      <td>...</td>\n",
       "      <td>34.01</td>\n",
       "      <td>111.6</td>\n",
       "      <td>806.9</td>\n",
       "      <td>0.1737</td>\n",
       "      <td>0.3122</td>\n",
       "      <td>0.3809</td>\n",
       "      <td>0.1673</td>\n",
       "      <td>0.3080</td>\n",
       "      <td>0.09333</td>\n",
       "      <td>0</td>\n",
       "    </tr>\n",
       "  </tbody>\n",
       "</table>\n",
       "<p>5 rows × 31 columns</p>\n",
       "</div>"
      ],
      "text/plain": [
       "   mean radius  mean texture  mean perimeter  mean area  mean smoothness  \\\n",
       "0        17.99         10.38          122.80     1001.0           0.1184   \n",
       "1        14.22         23.12           94.37      609.9           0.1075   \n",
       "2        12.34         26.86           81.15      477.4           0.1034   \n",
       "3        14.86         23.21          100.40      671.4           0.1044   \n",
       "4        13.77         22.29           90.63      588.9           0.1200   \n",
       "\n",
       "   mean compactness  mean concavity  mean concave points  mean symmetry  \\\n",
       "0            0.2776          0.3001              0.14710         0.2419   \n",
       "1            0.2413          0.1981              0.06618         0.2384   \n",
       "2            0.1353          0.1085              0.04562         0.1943   \n",
       "3            0.1980          0.1697              0.08878         0.1737   \n",
       "4            0.1267          0.1385              0.06526         0.1834   \n",
       "\n",
       "   mean fractal dimension  ...  worst texture  worst perimeter  worst area  \\\n",
       "0                 0.07871  ...          17.33            184.6      2019.0   \n",
       "1                 0.07542  ...          37.18            106.4       762.4   \n",
       "2                 0.06937  ...          39.34            101.7       768.9   \n",
       "3                 0.06672  ...          27.78            118.6       784.7   \n",
       "4                 0.06877  ...          34.01            111.6       806.9   \n",
       "\n",
       "   worst smoothness  worst compactness  worst concavity  worst concave points  \\\n",
       "0            0.1622             0.6656           0.7119                0.2654   \n",
       "1            0.1533             0.9327           0.8488                0.1772   \n",
       "2            0.1785             0.4706           0.4425                0.1459   \n",
       "3            0.1316             0.4648           0.4589                0.1727   \n",
       "4            0.1737             0.3122           0.3809                0.1673   \n",
       "\n",
       "   worst symmetry  worst fractal dimension  target  \n",
       "0          0.4601                  0.11890       0  \n",
       "1          0.5166                  0.14460       0  \n",
       "2          0.3215                  0.12050       0  \n",
       "3          0.3000                  0.08701       0  \n",
       "4          0.3080                  0.09333       0  \n",
       "\n",
       "[5 rows x 31 columns]"
      ]
     },
     "execution_count": 14,
     "metadata": {},
     "output_type": "execute_result"
    }
   ],
   "source": [
    "bcDB = datasets.load_breast_cancer()\n",
    "bcDF = pd.DataFrame(bcDB.data, columns= list(bcDB['feature_names']))\n",
    "bcDF['target'] = pd.Series(bcDB.target)\n",
    "bcDF = bcDF.sort_values(by = ['target'])\n",
    "bcDF = bcDF.reset_index(drop=True)\n",
    "bcDF.head(5)"
   ]
  },
  {
   "cell_type": "code",
   "execution_count": 15,
   "metadata": {},
   "outputs": [
    {
     "data": {
      "text/plain": [
       "((569, 30), (569,))"
      ]
     },
     "execution_count": 15,
     "metadata": {},
     "output_type": "execute_result"
    }
   ],
   "source": [
    "y = bcDF.pop('target').values\n",
    "X = bcDF.values\n",
    "X.shape, y.shape"
   ]
  },
  {
   "cell_type": "code",
   "execution_count": 16,
   "metadata": {},
   "outputs": [],
   "source": [
    "X_train, X_test, y_train, y_test = train_test_split(X, y, random_state=1)"
   ]
  },
  {
   "cell_type": "markdown",
   "metadata": {},
   "source": [
    "Upsample the minority class count so that it is level."
   ]
  },
  {
   "cell_type": "code",
   "execution_count": 17,
   "metadata": {},
   "outputs": [],
   "source": [
    "sm = SMOTE(random_state=12, ratio = 1.0)\n",
    "X_train_res, y_train_res = sm.fit_sample(X_train, y_train)"
   ]
  },
  {
   "cell_type": "markdown",
   "metadata": {},
   "source": [
    "**Verify that the upsampling has occured.**"
   ]
  },
  {
   "cell_type": "code",
   "execution_count": 18,
   "metadata": {},
   "outputs": [
    {
     "data": {
      "text/plain": [
       "(426, 536)"
      ]
     },
     "execution_count": 18,
     "metadata": {},
     "output_type": "execute_result"
    }
   ],
   "source": [
    "len(y_train), len(y_train_res)"
   ]
  },
  {
   "cell_type": "code",
   "execution_count": 19,
   "metadata": {},
   "outputs": [
    {
     "data": {
      "text/plain": [
       "(268, 268)"
      ]
     },
     "execution_count": 19,
     "metadata": {},
     "output_type": "execute_result"
    }
   ],
   "source": [
    "y_train.sum(), y_train_res.sum()"
   ]
  },
  {
   "cell_type": "code",
   "execution_count": 20,
   "metadata": {},
   "outputs": [
    {
     "name": "stdout",
     "output_type": "stream",
     "text": [
      "Original Training\n",
      "Majority class: 268\n",
      "Minority class: 158\n",
      "Upsampled Training\n",
      "Majority class: 268\n",
      "Minority class: 268\n"
     ]
    }
   ],
   "source": [
    "print(\"Original Training\")\n",
    "print(\"Majority class:\",y_train.sum())\n",
    "print(\"Minority class:\",len(y_train) - y_train.sum())\n",
    "print(\"Upsampled Training\")\n",
    "print(\"Majority class:\",y_train_res.sum())\n",
    "print(\"Minority class:\",len(y_train_res) - y_train_res.sum())"
   ]
  },
  {
   "cell_type": "code",
   "execution_count": 21,
   "metadata": {},
   "outputs": [
    {
     "name": "stdout",
     "output_type": "stream",
     "text": [
      "Malignant in test set : 54\n",
      "DecisionTreeClassifier Pred. Malignant: 54 Accuracy: 0.93\n",
      "KNeighborsClassifier   Pred. Malignant: 60 Accuracy: 0.92\n",
      "MultinomialNB          Pred. Malignant: 45 Accuracy: 0.91\n",
      "LogisticRegression     Pred. Malignant: 56 Accuracy: 0.93\n"
     ]
    }
   ],
   "source": [
    "print(\"Malignant in test set : %d\" % (len(y_test) - y_test.sum()))\n",
    "res_d = {}\n",
    "acc_res = {}\n",
    "\n",
    "for m in model_d:\n",
    "    y_pred = model_d[m].fit(X_train_res, y_train_res).predict(X_test)\n",
    "    pred_count = (len(y_pred) - y_pred.sum())\n",
    "    res_d[m] = pred_count\n",
    "    acc = accuracy_score(y_test, y_pred)\n",
    "    acc_res[m] = acc\n",
    "\n",
    "    print(\"{:22} Pred. Malignant: {:d} Accuracy: {:.2f}\".format(type(model_d[m]).__name__, pred_count,acc))\n"
   ]
  },
  {
   "cell_type": "code",
   "execution_count": 22,
   "metadata": {
    "scrolled": true
   },
   "outputs": [
    {
     "data": {
      "image/png": "[encoded data removed]",
      "text/plain": [
       "<Figure size 432x288 with 1 Axes>"
      ]
     },
     "metadata": {
      "needs_background": "light"
     },
     "output_type": "display_data"
    }
   ],
   "source": [
    "import matplotlib.pyplot as plt \n",
    "import numpy as np\n",
    "%matplotlib inline \n",
    "\n",
    "fig, ax = plt.subplots()\n",
    "width = 0.35\n",
    "\n",
    "# Add the prior figures to the data for plotting\n",
    "objects = ['Prior'] + list(bias_d.keys())\n",
    "positive = [len(y_test) - y_test.sum()] + list(bias_d.values())\n",
    "res = [len(y_test) - y_test.sum()] + list(res_d.values())\n",
    "\n",
    "y_pos = np.arange(len(objects))\n",
    "\n",
    "p1 = ax.bar(y_pos, positive, width, align='center', \n",
    "            color=['red', 'blue', 'blue','blue','blue'],alpha=0.5)\n",
    "\n",
    "p2 = ax.bar(y_pos+width, res, width, align='center', \n",
    "            color=['red', 'g','g','g','g'],alpha=0.5)\n",
    "\n",
    "ax.legend((p1[1], p2[1]), ('Raw', 'Upsampled'))\n",
    "\n",
    "plt.xticks(y_pos, objects)\n",
    "plt.ylabel('Malignant Counts')\n",
    "plt.title('Impact of Upsampling')\n",
    " \n",
    "plt.show()"
   ]
  },
  {
   "cell_type": "code",
   "execution_count": 23,
   "metadata": {},
   "outputs": [
    {
     "data": {
      "image/png": "[encoded data removed]",
      "text/plain": [
       "<Figure size 432x288 with 1 Axes>"
      ]
     },
     "metadata": {
      "needs_background": "light"
     },
     "output_type": "display_data"
    }
   ],
   "source": [
    "fig, ax = plt.subplots()\n",
    "\n",
    "objects =  list(acc_bl.keys())\n",
    "before =   list(acc_bl.values())\n",
    "after =  list(acc_res.values())\n",
    "y_pos = np.arange(len(objects))\n",
    "p1 = ax.bar(y_pos, before, width, align='center', \n",
    "            color=['blue', 'blue','blue','blue'],alpha=0.5)\n",
    "p2 = ax.bar(y_pos+width, after, width, align='center', \n",
    "            color=['g','g','g','g'],alpha=0.5)\n",
    "ax.legend((p1[1], p2[1]), ('Raw', 'Upsampled'))\n",
    "plt.xticks(y_pos, objects)\n",
    "plt.ylabel('Accuracy')\n",
    "plt.title('Impact of Upsampling')\n",
    "plt.show()"
   ]
  },
  {
   "cell_type": "markdown",
   "metadata": {},
   "source": [
    "### The Fix - Discussion\n",
    "\n",
    "The solution we propose is to upsample the minority class data in training. \n",
    "- The solution works pretty well, across multiple runs the bias is reduced. \n",
    "- The assessment is unstable in that different runs produce different results. \n",
    "- The strategy has no impact for Multinomial Naive Bayes. \n",
    "- The impact on accuracy is minimal."
   ]
  },
  {
   "cell_type": "markdown",
   "metadata": {},
   "source": [
    "## Q3 \n",
    "## Second Dataset\n",
    "  \n",
    "\n",
    "<span style=\"color:blue\">\n",
    "Tested the impact of this strategy on another dataset of your choice.  \n",
    "</span>\n",
    "\n",
    "\n",
    "The second dataset chosen is the Hotel Reviews data.  \n",
    "The first bar chart shows that the bias is greater in this dataset. "
   ]
  },
  {
   "cell_type": "code",
   "execution_count": 24,
   "metadata": {},
   "outputs": [
    {
     "data": {
      "text/html": [
       "<div>\n",
       "<style scoped>\n",
       "    .dataframe tbody tr th:only-of-type {\n",
       "        vertical-align: middle;\n",
       "    }\n",
       "\n",
       "    .dataframe tbody tr th {\n",
       "        vertical-align: top;\n",
       "    }\n",
       "\n",
       "    .dataframe thead th {\n",
       "        text-align: right;\n",
       "    }\n",
       "</style>\n",
       "<table border=\"1\" class=\"dataframe\">\n",
       "  <thead>\n",
       "    <tr style=\"text-align: right;\">\n",
       "      <th></th>\n",
       "      <th>aveHelpfulnessRatioUser</th>\n",
       "      <th>stdevHelpfulnessRatioUser</th>\n",
       "      <th>pcReviewsExceedMinHelpfulnessSupport</th>\n",
       "      <th>numReviewsUser</th>\n",
       "      <th>numReviewsHotel</th>\n",
       "      <th>ratingUser</th>\n",
       "      <th>numberSubRatingsUser</th>\n",
       "      <th>subRatingMeanUser</th>\n",
       "      <th>subRatingStdevUser</th>\n",
       "      <th>aveRatingUser</th>\n",
       "      <th>...</th>\n",
       "      <th>completeness_2</th>\n",
       "      <th>completeness_3</th>\n",
       "      <th>numberTermsEntry</th>\n",
       "      <th>percentageAlphaCharsEntry</th>\n",
       "      <th>fractionUpperCaseCharsEntry</th>\n",
       "      <th>fractionYouVsIEntry</th>\n",
       "      <th>numberTermsSummaryQuote</th>\n",
       "      <th>percentageAlphaCharsSummaryQuote</th>\n",
       "      <th>fractionUpperCaseCharsSummaryQuote</th>\n",
       "      <th>reviewHelpfulness</th>\n",
       "    </tr>\n",
       "  </thead>\n",
       "  <tbody>\n",
       "    <tr>\n",
       "      <th>0</th>\n",
       "      <td>1.000000</td>\n",
       "      <td>0.000000</td>\n",
       "      <td>0.666667</td>\n",
       "      <td>3</td>\n",
       "      <td>16</td>\n",
       "      <td>5</td>\n",
       "      <td>4</td>\n",
       "      <td>4.000000</td>\n",
       "      <td>0.000000</td>\n",
       "      <td>4.333333</td>\n",
       "      <td>...</td>\n",
       "      <td>0</td>\n",
       "      <td>1</td>\n",
       "      <td>182</td>\n",
       "      <td>0.788474</td>\n",
       "      <td>0.025703</td>\n",
       "      <td>0.500000</td>\n",
       "      <td>6</td>\n",
       "      <td>0.815789</td>\n",
       "      <td>0.096774</td>\n",
       "      <td>1</td>\n",
       "    </tr>\n",
       "    <tr>\n",
       "      <th>1</th>\n",
       "      <td>0.772487</td>\n",
       "      <td>0.377321</td>\n",
       "      <td>0.500000</td>\n",
       "      <td>12</td>\n",
       "      <td>233</td>\n",
       "      <td>5</td>\n",
       "      <td>0</td>\n",
       "      <td>0.000000</td>\n",
       "      <td>0.000000</td>\n",
       "      <td>4.333333</td>\n",
       "      <td>...</td>\n",
       "      <td>0</td>\n",
       "      <td>0</td>\n",
       "      <td>158</td>\n",
       "      <td>0.791888</td>\n",
       "      <td>0.012594</td>\n",
       "      <td>0.500000</td>\n",
       "      <td>1</td>\n",
       "      <td>1.000000</td>\n",
       "      <td>0.083333</td>\n",
       "      <td>1</td>\n",
       "    </tr>\n",
       "    <tr>\n",
       "      <th>2</th>\n",
       "      <td>0.715473</td>\n",
       "      <td>0.300437</td>\n",
       "      <td>0.833333</td>\n",
       "      <td>12</td>\n",
       "      <td>302</td>\n",
       "      <td>4</td>\n",
       "      <td>7</td>\n",
       "      <td>3.714286</td>\n",
       "      <td>0.755929</td>\n",
       "      <td>4.166667</td>\n",
       "      <td>...</td>\n",
       "      <td>0</td>\n",
       "      <td>3</td>\n",
       "      <td>59</td>\n",
       "      <td>0.799639</td>\n",
       "      <td>0.024831</td>\n",
       "      <td>0.333333</td>\n",
       "      <td>4</td>\n",
       "      <td>0.828571</td>\n",
       "      <td>0.034483</td>\n",
       "      <td>0</td>\n",
       "    </tr>\n",
       "    <tr>\n",
       "      <th>3</th>\n",
       "      <td>0.521250</td>\n",
       "      <td>0.481675</td>\n",
       "      <td>0.222222</td>\n",
       "      <td>36</td>\n",
       "      <td>6</td>\n",
       "      <td>1</td>\n",
       "      <td>4</td>\n",
       "      <td>1.000000</td>\n",
       "      <td>0.000000</td>\n",
       "      <td>3.527778</td>\n",
       "      <td>...</td>\n",
       "      <td>0</td>\n",
       "      <td>0</td>\n",
       "      <td>95</td>\n",
       "      <td>0.782212</td>\n",
       "      <td>0.029155</td>\n",
       "      <td>0.500000</td>\n",
       "      <td>2</td>\n",
       "      <td>0.800000</td>\n",
       "      <td>0.062500</td>\n",
       "      <td>0</td>\n",
       "    </tr>\n",
       "    <tr>\n",
       "      <th>4</th>\n",
       "      <td>0.603175</td>\n",
       "      <td>0.246926</td>\n",
       "      <td>1.000000</td>\n",
       "      <td>2</td>\n",
       "      <td>271</td>\n",
       "      <td>3</td>\n",
       "      <td>0</td>\n",
       "      <td>0.000000</td>\n",
       "      <td>0.000000</td>\n",
       "      <td>3.500000</td>\n",
       "      <td>...</td>\n",
       "      <td>0</td>\n",
       "      <td>0</td>\n",
       "      <td>43</td>\n",
       "      <td>0.805128</td>\n",
       "      <td>0.028662</td>\n",
       "      <td>0.000000</td>\n",
       "      <td>1</td>\n",
       "      <td>1.000000</td>\n",
       "      <td>0.142857</td>\n",
       "      <td>0</td>\n",
       "    </tr>\n",
       "  </tbody>\n",
       "</table>\n",
       "<p>5 rows × 24 columns</p>\n",
       "</div>"
      ],
      "text/plain": [
       "   aveHelpfulnessRatioUser  stdevHelpfulnessRatioUser  \\\n",
       "0                 1.000000                   0.000000   \n",
       "1                 0.772487                   0.377321   \n",
       "2                 0.715473                   0.300437   \n",
       "3                 0.521250                   0.481675   \n",
       "4                 0.603175                   0.246926   \n",
       "\n",
       "   pcReviewsExceedMinHelpfulnessSupport  numReviewsUser  numReviewsHotel  \\\n",
       "0                              0.666667               3               16   \n",
       "1                              0.500000              12              233   \n",
       "2                              0.833333              12              302   \n",
       "3                              0.222222              36                6   \n",
       "4                              1.000000               2              271   \n",
       "\n",
       "   ratingUser  numberSubRatingsUser  subRatingMeanUser  subRatingStdevUser  \\\n",
       "0           5                     4           4.000000            0.000000   \n",
       "1           5                     0           0.000000            0.000000   \n",
       "2           4                     7           3.714286            0.755929   \n",
       "3           1                     4           1.000000            0.000000   \n",
       "4           3                     0           0.000000            0.000000   \n",
       "\n",
       "   aveRatingUser  ...  completeness_2  completeness_3  numberTermsEntry  \\\n",
       "0       4.333333  ...               0               1               182   \n",
       "1       4.333333  ...               0               0               158   \n",
       "2       4.166667  ...               0               3                59   \n",
       "3       3.527778  ...               0               0                95   \n",
       "4       3.500000  ...               0               0                43   \n",
       "\n",
       "   percentageAlphaCharsEntry  fractionUpperCaseCharsEntry  \\\n",
       "0                   0.788474                     0.025703   \n",
       "1                   0.791888                     0.012594   \n",
       "2                   0.799639                     0.024831   \n",
       "3                   0.782212                     0.029155   \n",
       "4                   0.805128                     0.028662   \n",
       "\n",
       "   fractionYouVsIEntry  numberTermsSummaryQuote  \\\n",
       "0             0.500000                        6   \n",
       "1             0.500000                        1   \n",
       "2             0.333333                        4   \n",
       "3             0.500000                        2   \n",
       "4             0.000000                        1   \n",
       "\n",
       "   percentageAlphaCharsSummaryQuote  fractionUpperCaseCharsSummaryQuote  \\\n",
       "0                          0.815789                            0.096774   \n",
       "1                          1.000000                            0.083333   \n",
       "2                          0.828571                            0.034483   \n",
       "3                          0.800000                            0.062500   \n",
       "4                          1.000000                            0.142857   \n",
       "\n",
       "   reviewHelpfulness  \n",
       "0                  1  \n",
       "1                  1  \n",
       "2                  0  \n",
       "3                  0  \n",
       "4                  0  \n",
       "\n",
       "[5 rows x 24 columns]"
      ]
     },
     "execution_count": 24,
     "metadata": {},
     "output_type": "execute_result"
    }
   ],
   "source": [
    "hotel_rev_pd = pd.read_csv('HotelRevHelpfulnessV2.csv')\n",
    "hotel_rev_pd.head()"
   ]
  },
  {
   "cell_type": "code",
   "execution_count": 25,
   "metadata": {},
   "outputs": [
    {
     "data": {
      "text/plain": [
       "(486, 23)"
      ]
     },
     "execution_count": 25,
     "metadata": {},
     "output_type": "execute_result"
    }
   ],
   "source": [
    "y = hotel_rev_pd.pop('reviewHelpfulness').values\n",
    "X = hotel_rev_pd.values\n",
    "X.shape"
   ]
  },
  {
   "cell_type": "code",
   "execution_count": 26,
   "metadata": {},
   "outputs": [
    {
     "name": "stdout",
     "output_type": "stream",
     "text": [
      "Original Dataset\n",
      "Minority class: 178\n",
      "Majority class: 308\n",
      "Minority class: 36.63%\n"
     ]
    }
   ],
   "source": [
    "print(\"Original Dataset\")\n",
    "print(\"Minority class:\",len(y) - y.sum())\n",
    "print(\"Majority class:\",y.sum())\n",
    "print(\"Minority class: {:.2f}%\".format((len(y)-y.sum())/len(y)*100))"
   ]
  },
  {
   "cell_type": "code",
   "execution_count": 27,
   "metadata": {},
   "outputs": [
    {
     "name": "stdout",
     "output_type": "stream",
     "text": [
      "Unhelpful in test set : 46\n",
      "DecisionTreeClassifier Pred. Unhelpful: 36 Accuracy: 0.64\n",
      "KNeighborsClassifier   Pred. Unhelpful: 36 Accuracy: 0.62\n",
      "MultinomialNB          Pred. Unhelpful: 39 Accuracy: 0.65\n",
      "LogisticRegression     Pred. Unhelpful: 15 Accuracy: 0.66\n"
     ]
    }
   ],
   "source": [
    "X_train, X_test, y_train, y_test = train_test_split(X, y, random_state=2)\n",
    "bias_ds2 = {}\n",
    "acc_bl = {}\n",
    "\n",
    "print(\"Unhelpful in test set : %d\" % (len(y_test) - y_test.sum()))\n",
    "\n",
    "for m in model_d:\n",
    "    y_pred = model_d[m].fit(X_train, y_train).predict(X_test)\n",
    "    pred_count = (len(y_pred) - y_pred.sum())\n",
    "    bias_ds2[m] = pred_count\n",
    "    acc = accuracy_score(y_test, y_pred)\n",
    "    acc_bl[m] = acc\n",
    "  \n",
    "\n",
    "    print(\"{:22} Pred. Unhelpful: {:d} Accuracy: {:.2f}\".\n",
    "          format(type(model_d[m]).__name__, pred_count,acc))"
   ]
  },
  {
   "cell_type": "code",
   "execution_count": 28,
   "metadata": {},
   "outputs": [
    {
     "data": {
      "image/png": "[encoded data removed]",
      "text/plain": [
       "<Figure size 432x288 with 1 Axes>"
      ]
     },
     "metadata": {
      "needs_background": "light"
     },
     "output_type": "display_data"
    }
   ],
   "source": [
    "import matplotlib.pyplot as plt \n",
    "import numpy as np\n",
    "%matplotlib inline \n",
    "\n",
    "# Add the prior figures to the data for plotting\n",
    "objects = ['Prior'] + list(bias_d.keys())\n",
    "positive = [len(y_test) - y_test.sum()] + list(bias_ds2.values())\n",
    "\n",
    "y_pos = np.arange(len(objects))\n",
    "\n",
    "plt.bar(y_pos, positive, align='center', color=['red', 'blue', 'blue','blue','blue','blue','blue'],alpha=0.5)\n",
    "plt.xticks(y_pos, objects)\n",
    "plt.ylabel('Minority Count')\n",
    "plt.title('ML Algorithm Bias')\n",
    " \n",
    "plt.show()"
   ]
  },
  {
   "cell_type": "code",
   "execution_count": 29,
   "metadata": {},
   "outputs": [],
   "source": [
    "sm = SMOTE(random_state=1, ratio = 1.0)\n",
    "sm  = RandomOverSampler(random_state=1, ratio = 1.0)\n",
    "#sm  = ADASYN(random_state=1, ratio = 1.0)\n",
    "X_train_res, y_train_res = sm.fit_sample(X_train, y_train)"
   ]
  },
  {
   "cell_type": "code",
   "execution_count": 30,
   "metadata": {},
   "outputs": [
    {
     "name": "stdout",
     "output_type": "stream",
     "text": [
      "Unhelpful in test set : 46\n",
      "DecisionTreeClassifier Pred. Unhelpful: 36 Accuracy: 0.69\n",
      "KNeighborsClassifier   Pred. Unhelpful: 49 Accuracy: 0.61\n",
      "MultinomialNB          Pred. Unhelpful: 35 Accuracy: 0.65\n",
      "LogisticRegression     Pred. Unhelpful: 53 Accuracy: 0.60\n"
     ]
    }
   ],
   "source": [
    "print(\"Unhelpful in test set : %d\" % (len(y_test) - y_test.sum()))\n",
    "res_ds2 = {}\n",
    "acc_res = {}\n",
    "\n",
    "for m in model_d:\n",
    "    y_pred = model_d[m].fit(X_train_res, y_train_res).predict(X_test)\n",
    "    pred_count = (len(y_pred) - y_pred.sum())\n",
    "    res_ds2[m] = pred_count\n",
    "    acc = accuracy_score(y_test, y_pred)\n",
    "    acc_res[m] = acc\n",
    "\n",
    "    print(\"{:22} Pred. Unhelpful: {:d} Accuracy: {:.2f}\".\n",
    "          format(type(model_d[m]).__name__, pred_count,acc))"
   ]
  },
  {
   "cell_type": "code",
   "execution_count": 31,
   "metadata": {},
   "outputs": [
    {
     "data": {
      "image/png": "[encoded data removed]",
      "text/plain": [
       "<Figure size 432x288 with 1 Axes>"
      ]
     },
     "metadata": {
      "needs_background": "light"
     },
     "output_type": "display_data"
    }
   ],
   "source": [
    "import matplotlib.pyplot as plt \n",
    "import numpy as np\n",
    "%matplotlib inline \n",
    "\n",
    "fig, ax = plt.subplots()\n",
    "width = 0.35\n",
    "\n",
    "# Add the prior figures to the data for plotting\n",
    "objects = ['Prior'] + list(bias_d.keys())\n",
    "positive = [len(y_test) - y_test.sum()] + list(bias_ds2.values())\n",
    "res = [len(y_test) - y_test.sum()] + list(res_ds2.values())\n",
    "\n",
    "y_pos = np.arange(len(objects))\n",
    "\n",
    "p1 = ax.bar(y_pos, positive, width, align='center', \n",
    "            color=['red', 'blue', 'blue','blue','blue'],alpha=0.5)\n",
    "\n",
    "p2 = ax.bar(y_pos+width, res, width, align='center', \n",
    "            color=['red', 'g','g','g','g'],alpha=0.5)\n",
    "\n",
    "ax.legend((p1[1], p2[1]), ('Raw', 'Upsampled'))\n",
    "\n",
    "plt.xticks(y_pos, objects)\n",
    "plt.ylabel('Count')\n",
    "plt.title('ML Algorithm Bias')\n",
    " \n",
    "plt.show()"
   ]
  },
  {
   "cell_type": "code",
   "execution_count": 32,
   "metadata": {},
   "outputs": [
    {
     "data": {
      "image/png": "[encoded data removed]",
      "text/plain": [
       "<Figure size 432x288 with 1 Axes>"
      ]
     },
     "metadata": {
      "needs_background": "light"
     },
     "output_type": "display_data"
    }
   ],
   "source": [
    "fig, ax = plt.subplots()\n",
    "\n",
    "objects =  list(acc_bl.keys())\n",
    "before =   list(acc_bl.values())\n",
    "after =  list(acc_res.values())\n",
    "y_pos = np.arange(len(objects))\n",
    "p1 = ax.bar(y_pos, before, width, align='center', \n",
    "            color=['blue', 'blue','blue','blue'],alpha=0.5)\n",
    "p2 = ax.bar(y_pos+width, after, width, align='center', \n",
    "            color=['g','g','g','g'],alpha=0.5)\n",
    "ax.legend((p1[1], p2[1]), ('Raw', 'Upsampled'))\n",
    "plt.xticks(y_pos, objects)\n",
    "plt.ylabel('Accuracy')\n",
    "plt.title('Impact of Upsampling')\n",
    "plt.show()"
   ]
  },
  {
   "cell_type": "markdown",
   "metadata": {},
   "source": [
    "### Second Dataset Discussion  \n",
    "The results on the second dataset are again quite positive. \n",
    "- With the exception of Naive Bayes, there is good improvement on bias.\n",
    "- With the exception of Logistic Regression there is not too much impact on accuracy. \n",
    "- It seems that kNN offers the best balance between bias and accuracy. "
   ]
  },
  {
   "cell_type": "code",
   "execution_count": null,
   "metadata": {},
   "outputs": [],
   "source": []
  }
 ],
 "metadata": {
  "kernelspec": {
   "display_name": "Python 3",
   "language": "python",
   "name": "python3"
  },
  "language_info": {
   "codemirror_mode": {
    "name": "ipython",
    "version": 3
   },
   "file_extension": ".py",
   "mimetype": "text/x-python",
   "name": "python",
   "nbconvert_exporter": "python",
   "pygments_lexer": "ipython3",
   "version": "3.7.3"
  }
 },
 "nbformat": 4,
 "nbformat_minor": 2
}
